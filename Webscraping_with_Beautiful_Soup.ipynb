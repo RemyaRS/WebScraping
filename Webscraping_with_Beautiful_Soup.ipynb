{
 "cells": [
  {
   "cell_type": "code",
   "execution_count": null,
   "id": "80915b42",
   "metadata": {},
   "outputs": [],
   "source": []
  },
  {
   "cell_type": "code",
   "execution_count": 3,
   "id": "e52a8556",
   "metadata": {},
   "outputs": [
    {
     "name": "stdout",
     "output_type": "stream",
     "text": [
      "Defaulting to user installation because normal site-packages is not writeable\n",
      "Requirement already satisfied: requests in c:\\programdata\\anaconda3\\lib\\site-packages (2.27.1)\n",
      "Requirement already satisfied: idna<4,>=2.5 in c:\\programdata\\anaconda3\\lib\\site-packages (from requests) (3.3)\n",
      "Requirement already satisfied: urllib3<1.27,>=1.21.1 in c:\\programdata\\anaconda3\\lib\\site-packages (from requests) (1.26.9)\n",
      "Requirement already satisfied: certifi>=2017.4.17 in c:\\programdata\\anaconda3\\lib\\site-packages (from requests) (2021.10.8)\n",
      "Requirement already satisfied: charset-normalizer~=2.0.0 in c:\\programdata\\anaconda3\\lib\\site-packages (from requests) (2.0.4)\n",
      "Defaulting to user installation because normal site-packages is not writeable\n",
      "Requirement already satisfied: bs4 in c:\\users\\hp\\appdata\\roaming\\python\\python39\\site-packages (0.0.1)\n",
      "Requirement already satisfied: beautifulsoup4 in c:\\programdata\\anaconda3\\lib\\site-packages (from bs4) (4.11.1)\n",
      "Requirement already satisfied: soupsieve>1.2 in c:\\programdata\\anaconda3\\lib\\site-packages (from beautifulsoup4->bs4) (2.3.1)\n",
      "Defaulting to user installation because normal site-packages is not writeable\n",
      "Collecting html5lib\n",
      "  Downloading html5lib-1.1-py2.py3-none-any.whl (112 kB)\n",
      "Requirement already satisfied: six>=1.9 in c:\\programdata\\anaconda3\\lib\\site-packages (from html5lib) (1.16.0)\n",
      "Requirement already satisfied: webencodings in c:\\programdata\\anaconda3\\lib\\site-packages (from html5lib) (0.5.1)\n",
      "Installing collected packages: html5lib\n",
      "Successfully installed html5lib-1.1\n"
     ]
    }
   ],
   "source": [
    "#Step 0 - install all the requirements\n",
    "\n",
    "!pip install requests#Helps to extract content of any website as a string\n",
    "\n",
    "!pip install html5lib#Used to parse the webstie\n",
    "\n",
    "!pip install bs4#to get a tree like structure of website page, so as to extract content from it"
   ]
  },
  {
   "cell_type": "code",
   "execution_count": 10,
   "id": "0c81c8f0",
   "metadata": {},
   "outputs": [],
   "source": [
    "import requests\n",
    "from bs4 import BeautifulSoup\n",
    "url = \"https://www.codewithharry.com/\""
   ]
  },
  {
   "cell_type": "code",
   "execution_count": 15,
   "id": "050df243",
   "metadata": {},
   "outputs": [],
   "source": [
    "# Step 1 - Get the html\n",
    "r = requests.get(url)\n",
    "htmlContent = r.content\n",
    "#print(htmlContent)"
   ]
  },
  {
   "cell_type": "code",
   "execution_count": 14,
   "id": "b2ccd156",
   "metadata": {},
   "outputs": [],
   "source": [
    "# Step 2 - Parse the html\n",
    "soup = BeautifulSoup(htmlContent,'html.parser')"
   ]
  },
  {
   "cell_type": "code",
   "execution_count": null,
   "id": "d2a7382c",
   "metadata": {},
   "outputs": [],
   "source": [
    "# Commonly used objects\n",
    "#1. Tag\n",
    "print(type(title))\n",
    "\n",
    "#2. Navigable String\n",
    "print(type(title.string))\n",
    "\n",
    "#3. Beautiful Soup\n",
    "print(type(soup))"
   ]
  },
  {
   "cell_type": "code",
   "execution_count": 18,
   "id": "9059d361",
   "metadata": {},
   "outputs": [
    {
     "name": "stdout",
     "output_type": "stream",
     "text": [
      "<title>Learn to code online - CodeWithHarry</title>\n",
      "[<p class=\"mt-2 text-sm text-gray-500 md:text-base\">Confused on which course to take? I have got you covered. Browse courses and find out the best course for you. Its free! Code With Harry is my attempt to teach basics and those coding techniques to people in short time which took me ages to learn.</p>, <p class=\"text-gray-700 text-base\">Complete Tailwind CSS Course by CodeWithHarry in Hindi - Learn Tailwind CSS from scratch for free! </p>, <p class=\"text-gray-700 text-base\">Complete Next.js Course by CodeWithHarry in Hindi - Learn Next.js from Scratch.</p>, <p class=\"text-gray-700 text-base\">React is a free and open-source front-end JavaScript library. This series will cover React from starting to the end. We will learn react from the ground up!</p>, <p class=\"leading-relaxed mb-6\">I don't have words to thank this man, I'm really grateful to have this channel and website in my daily routine. If you're a mere beginner, then you can trust this guy and can put your time into his content. I can assure you that it'll be worth it.</p>, <p class=\"leading-relaxed mb-6\">For everyone who wants to level up their #Coding and #Dev skills - seriously, this channel is for you! Both basic and advanced stacks are covered on this channel, and one can learn according to his skill levels. And the icing on the cake is, everything is available for free.</p>, <p class=\"text-sm text-gray-500 sm:ml-4 sm:pl-4 sm:border-l-2 sm:border-gray-200 sm:py-2 mt-4 md:mt-2 mb-2 md:mb-0 text-center\">Copyright © 2022 CodeWithHarry.com</p>]\n",
      "[<a href=\"/\">CodeWithHarry</a>, <a href=\"/\">Home</a>, <a href=\"/videos/\">Courses</a>, <a href=\"/tutorial/html-home/\">Tutorial</a>, <a href=\"/blogs/\">Blog</a>, <a href=\"/contact/\">Contact</a>, <a href=\"/tutorial/html-home/\">HTML</a>, <a href=\"/tutorial/css-home/\">CSS</a>, <a href=\"/tutorial/js/\">JS</a>, <a href=\"/tutorial/c/\">C</a>, <a href=\"/tutorial/cplusplus/\">C++</a>, <a href=\"/tutorial/java/\">JAVA</a>, <a href=\"/tutorial/python/\">PYTHON</a>, <a href=\"/tutorial/tailwind/\">TAILWIND</a>, <a href=\"/tutorial/reactjs/\">REACTJS</a>, <a href=\"/tutorial/nextjs/\">NEXTJS</a>, <a href=\"/\">Home</a>, <a href=\"/videos/\">Courses</a>, <a href=\"/tutorial/html-home/\">HTML</a>, <a href=\"/tutorial/css-home/\">CSS</a>, <a href=\"/tutorial/js/\">JS</a>, <a href=\"/tutorial/c/\">C</a>, <a href=\"/tutorial/cplusplus/\">C++</a>, <a href=\"/tutorial/java/\">JAVA</a>, <a href=\"/tutorial/python/\">PYTHON</a>, <a href=\"/tutorial/tailwind/\">TAILWIND</a>, <a href=\"/tutorial/reactjs/\">REACTJS</a>, <a href=\"/tutorial/nextjs/\">NEXTJS</a>, <a href=\"/blogs/\">Blog</a>, <a href=\"/contact/\">Contact</a>, <a href=\"/work/\">WorkWithHarry</a>, <a class=\"text-gray-500\" href=\"https://www.facebook.com/codewithharry\" rel=\"noreferrer\" target=\"_blank\"><svg class=\"w-5 h-5\" fill=\"currentColor\" stroke-linecap=\"round\" stroke-linejoin=\"round\" stroke-width=\"2\" viewbox=\"0 0 24 24\"><path d=\"M18 2h-3a5 5 0 00-5 5v3H7v4h3v8h4v-8h3l1-4h-4V7a1 1 0 011-1h3z\"></path></svg></a>, <a class=\"ml-3 text-gray-500\" href=\"https://www.twitter.com/codewithharry\" rel=\"noreferrer\" target=\"_blank\"><svg class=\"w-5 h-5\" fill=\"currentColor\" stroke-linecap=\"round\" stroke-linejoin=\"round\" stroke-width=\"2\" viewbox=\"0 0 24 24\"><path d=\"M23 3a10.9 10.9 0 01-3.14 1.53 4.48 4.48 0 00-7.86 3v1A10.66 10.66 0 013 4s-4 9 5 13a11.64 11.64 0 01-7 2c9 5 20 0 20-11.5a4.5 4.5 0 00-.08-.83A7.72 7.72 0 0023 3z\"></path></svg></a>, <a class=\"ml-3 text-gray-500\" href=\"https://www.instagram.com/codewithharry\" rel=\"noreferrer\" target=\"_blank\"><svg class=\"w-5 h-5\" fill=\"none\" stroke=\"currentColor\" stroke-linecap=\"round\" stroke-linejoin=\"round\" stroke-width=\"2\" viewbox=\"0 0 24 24\"><rect height=\"20\" rx=\"5\" ry=\"5\" width=\"20\" x=\"2\" y=\"2\"></rect><path d=\"M16 11.37A4 4 0 1112.63 8 4 4 0 0116 11.37zm1.5-4.87h.01\"></path></svg></a>, <a class=\"ml-3 text-gray-500\" href=\"https://www.github.com/codewithharry\" rel=\"noreferrer\" target=\"_blank\"><svg class=\"text-xl\" fill=\"currentColor\" height=\"1em\" stroke=\"currentColor\" stroke-width=\"0\" viewbox=\"0 0 1024 1024\" width=\"1em\" xmlns=\"http://www.w3.org/2000/svg\"><path d=\"M511.6 76.3C264.3 76.2 64 276.4 64 523.5 64 718.9 189.3 885 363.8 946c23.5 5.9 19.9-10.8 19.9-22.2v-77.5c-135.7 15.9-141.2-73.9-150.3-88.9C215 726 171.5 718 184.5 703c30.9-15.9 62.4 4 98.9 57.9 26.4 39.1 77.9 32.5 104 26 5.7-23.5 17.9-44.5 34.7-60.8-140.6-25.2-199.2-111-199.2-213 0-49.5 16.3-95 48.3-131.7-20.4-60.5 1.9-112.3 4.9-120 58.1-5.2 118.5 41.6 123.2 45.3 33-8.9 70.7-13.6 112.9-13.6 42.4 0 80.2 4.9 113.5 13.9 11.3-8.6 67.3-48.8 121.3-43.9 2.9 7.7 24.7 58.3 5.5 118 32.4 36.8 48.9 82.7 48.9 132.3 0 102.2-59 188.1-200 212.9a127.5 127.5 0 0 1 38.1 91v112.5c.8 9 0 17.9 15 17.9 177.1-59.7 304.6-227 304.6-424.1 0-247.2-200.4-447.3-447.5-447.3z\"></path></svg></a>]\n"
     ]
    }
   ],
   "source": [
    "# Step 3 - HTML Tree traversal\n",
    "\n",
    "#Get title of html string\n",
    "title = soup.title\n",
    "print(title)\n",
    "\n",
    "# Get all paragraphs\n",
    "para = soup.find_all('p')\n",
    "print(para)\n",
    "\n",
    "# Get all anchor tags\n",
    "anch = soup.find_all('a')\n",
    "print(anch)"
   ]
  },
  {
   "cell_type": "code",
   "execution_count": 19,
   "id": "095dbbce",
   "metadata": {},
   "outputs": [
    {
     "name": "stdout",
     "output_type": "stream",
     "text": [
      "<p class=\"mt-2 text-sm text-gray-500 md:text-base\">Confused on which course to take? I have got you covered. Browse courses and find out the best course for you. Its free! Code With Harry is my attempt to teach basics and those coding techniques to people in short time which took me ages to learn.</p>\n"
     ]
    }
   ],
   "source": [
    "# To get first paragraph\n",
    "print(soup.find('p'))"
   ]
  },
  {
   "cell_type": "code",
   "execution_count": 20,
   "id": "02ddf3ff",
   "metadata": {},
   "outputs": [
    {
     "name": "stdout",
     "output_type": "stream",
     "text": [
      "['mt-2', 'text-sm', 'text-gray-500', 'md:text-base']\n"
     ]
    }
   ],
   "source": [
    "# To get class of the paragraph\n",
    "print(soup.find('p')['class'])"
   ]
  },
  {
   "cell_type": "code",
   "execution_count": 21,
   "id": "e4dd502e",
   "metadata": {},
   "outputs": [
    {
     "name": "stdout",
     "output_type": "stream",
     "text": [
      "[]\n"
     ]
    }
   ],
   "source": [
    "#find all the elements with class lead\n",
    "print(soup.find_all(\"p\", class_=\"lead\"))"
   ]
  },
  {
   "cell_type": "code",
   "execution_count": 22,
   "id": "4150056d",
   "metadata": {},
   "outputs": [
    {
     "name": "stdout",
     "output_type": "stream",
     "text": [
      "Confused on which course to take? I have got you covered. Browse courses and find out the best course for you. Its free! Code With Harry is my attempt to teach basics and those coding techniques to people in short time which took me ages to learn.\n",
      "Learn to code online - CodeWithHarryCodeWithHarryMenuLoginHomeCoursesTutorialBlogContactWorkWithHarryLoginSignupHTMLCSSJSCC++JAVAPYTHONTAILWINDREACTJSNEXTJSHomeCoursesTutorial HTMLCSSJSCC++JAVAPYTHONTAILWINDREACTJSNEXTJSBlogContactWorkWithHarryWelcome to CodeWithHarryConfused on which course to take? I have got you covered. Browse courses and find out the best course for you. Its free! Code With Harry is my attempt to teach basics and those coding techniques to people in short time which took me ages to learn.Free CoursesExplore BlogRecommended CoursesFree CourseTailwind Course In HindiComplete Tailwind CSS Course by CodeWithHarry in Hindi - Learn Tailwind CSS from scratch for free!  Start WatchingFree CourseNext.js Tutorials For BeginnersComplete Next.js Course by CodeWithHarry in Hindi - Learn Next.js from Scratch. Start WatchingFree CourseReact Js Tutorials For BeginnersReact is a free and open-source front-end JavaScript library. This series will cover React from starting to the end. We will learn react from the ground up! Start WatchingTestimonialsI don't have words to thank this man, I'm really grateful to have this channel and website in my daily routine. If you're a mere beginner, then you can trust this guy and can put your time into his content. I can assure you that it'll be worth it.Mohit KumarWeb DeveloperFor everyone who wants to level up their #Coding and #Dev skills - seriously, this channel is for you! Both basic and advanced stacks are covered on this channel, and one can learn according to his skill levels. And the icing on the cake is, everything is available for free.Rakesh ShettyWeb DeveloperCodeWithHarryCopyright © 2022 CodeWithHarry.com\n"
     ]
    }
   ],
   "source": [
    "# Get the text from the tags/soup\n",
    "print(soup.find('p').get_text())\n",
    "print(soup.get_text())"
   ]
  },
  {
   "cell_type": "code",
   "execution_count": 24,
   "id": "200a19ff",
   "metadata": {},
   "outputs": [
    {
     "name": "stdout",
     "output_type": "stream",
     "text": [
      "https://codewithharry.com/\n",
      "https://codewithharry.com/\n",
      "https://codewithharry.com/videos/\n",
      "https://codewithharry.com/tutorial/html-home/\n",
      "https://codewithharry.com/blogs/\n",
      "https://codewithharry.com/contact/\n",
      "https://codewithharry.com/tutorial/html-home/\n",
      "https://codewithharry.com/tutorial/css-home/\n",
      "https://codewithharry.com/tutorial/js/\n",
      "https://codewithharry.com/tutorial/c/\n",
      "https://codewithharry.com/tutorial/cplusplus/\n",
      "https://codewithharry.com/tutorial/java/\n",
      "https://codewithharry.com/tutorial/python/\n",
      "https://codewithharry.com/tutorial/tailwind/\n",
      "https://codewithharry.com/tutorial/reactjs/\n",
      "https://codewithharry.com/tutorial/nextjs/\n",
      "https://codewithharry.com/\n",
      "https://codewithharry.com/videos/\n",
      "https://codewithharry.com/tutorial/html-home/\n",
      "https://codewithharry.com/tutorial/css-home/\n",
      "https://codewithharry.com/tutorial/js/\n",
      "https://codewithharry.com/tutorial/c/\n",
      "https://codewithharry.com/tutorial/cplusplus/\n",
      "https://codewithharry.com/tutorial/java/\n",
      "https://codewithharry.com/tutorial/python/\n",
      "https://codewithharry.com/tutorial/tailwind/\n",
      "https://codewithharry.com/tutorial/reactjs/\n",
      "https://codewithharry.com/tutorial/nextjs/\n",
      "https://codewithharry.com/blogs/\n",
      "https://codewithharry.com/contact/\n",
      "https://codewithharry.com/work/\n",
      "https://codewithharry.comhttps://www.facebook.com/codewithharry\n",
      "https://codewithharry.comhttps://www.twitter.com/codewithharry\n",
      "https://codewithharry.comhttps://www.instagram.com/codewithharry\n",
      "https://codewithharry.comhttps://www.github.com/codewithharry\n"
     ]
    }
   ],
   "source": [
    "# Get all the anchor tags from the page\n",
    "anchors = soup.find_all('a')\n",
    "all_links = set()\n",
    "# Get all the links on the page:\n",
    "for link in anchors:\n",
    "    if(link.get('href') != '#'): \n",
    "        linkText = \"https://codewithharry.com\" +link.get('href')\n",
    "        all_links.add(link)\n",
    "        print(linkText)"
   ]
  },
  {
   "cell_type": "code",
   "execution_count": null,
   "id": "2a7ca8a1",
   "metadata": {},
   "outputs": [],
   "source": [
    "navbarSupportedContent = soup.find(id='navbarSupportedContent')\n",
    "\n",
    "# .contents - A tag's children are available as a list\n",
    "# .children - A tag's children are available as a genera\n",
    "for elem in navbarSupportedContent.contents:\n",
    "    print(elem)\n",
    "\n",
    "for item in navbarSupportedContent.strings:\n",
    "        print(item)\n",
    "\n",
    "# for item in navbarSupportedContent.stripped_strings:\n",
    "#     print(item)\n",
    "\n",
    "# print(navbarSupportedContent.parent)\n",
    "# for item in navbarSupportedContent.parents: \n",
    "#     print(item.name)\n",
    "\n",
    "# print(navbarSupportedContent.next_sibling.next_sibling)\n",
    "# print(navbarSupportedContent.previous_sibling.previous_sibling)\n",
    "\n",
    "# elem = soup.select('.modal-footer')\n",
    "# print(elem)\n",
    "elem = soup.select('#loginModal')[0] \n",
    "print(elem)"
   ]
  }
 ],
 "metadata": {
  "kernelspec": {
   "display_name": "Python 3 (ipykernel)",
   "language": "python",
   "name": "python3"
  },
  "language_info": {
   "codemirror_mode": {
    "name": "ipython",
    "version": 3
   },
   "file_extension": ".py",
   "mimetype": "text/x-python",
   "name": "python",
   "nbconvert_exporter": "python",
   "pygments_lexer": "ipython3",
   "version": "3.9.12"
  }
 },
 "nbformat": 4,
 "nbformat_minor": 5
}
